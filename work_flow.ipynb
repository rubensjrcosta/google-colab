{
  "cells": [
    {
      "cell_type": "markdown",
      "metadata": {
        "id": "view-in-github",
        "colab_type": "text"
      },
      "source": [
        "<a href=\"https://colab.research.google.com/github/rubensjrcosta/google-colab/blob/main/work_flow.ipynb\" target=\"_parent\"><img src=\"https://colab.research.google.com/assets/colab-badge.svg\" alt=\"Open In Colab\"/></a>"
      ]
    },
    {
      "cell_type": "markdown",
      "metadata": {
        "id": "yzJlSAKGBVhk"
      },
      "source": [
        "# 🤖 Project Title\n",
        "\n",
        "Description"
      ]
    },
    {
      "cell_type": "markdown",
      "metadata": {
        "id": "PZnDClvbBVhv"
      },
      "source": [
        "<a id='indice'></a>\n",
        "### Indice\n",
        "[Problem Definition](#introduction)<br>\n",
        "[Step 0.0:  Setting the Engine Tools](#step0)<br>\n",
        "$\\;\\;\\;\\;\\;$[Step 0.1:  Importing Required Python Libraries](#step0.1)<br>\n",
        "$\\;\\;\\;\\;\\;$[Step 0.2:  Display Setting](#step0.2)<br>\n",
        "$\\;\\;\\;\\;\\;$[Step 0.3: Defining Functions and Dictionaries](#step0.3)<br>\n",
        "[Step 1.0: Data Extraction](#step1)<br>\n",
        "$\\;\\;\\;\\;\\;$[Step 1.1: Downloading the Data](#step1.1)<br>\n",
        "$\\;\\;\\;\\;\\;$[Step 1.2: Loading the DataFrame](#step1.2)<br>\n",
        "$\\;\\;\\;\\;\\;$[Step 1.3: DataFrame Display](#step1.3)<br>\n",
        "[Step 2.0: Data Preparation](#step2)<br>\n",
        "$\\;\\;\\;\\;\\;$[Step 2.1: DataFrame Description](#step2.1)<br>\n",
        "$\\;\\;\\;\\;\\;$[Step 2.2: Quantifying Cardinality](#step2.2)<br>\n",
        "$\\;\\;\\;\\;\\;$[Step 2.3: Removing Duplicates](#step2.3)<br>\n",
        "$\\;\\;\\;\\;\\;$[Step 2.4: Removing Irrelevant Data](#step2.4)<br>\n",
        "$\\;\\;\\;\\;\\;$[Step 2.5: Fixing Structural Errors](#step2.5)<br>\n",
        "$\\;\\;\\;\\;\\;$[Step 2.6: Detecting Outliers](#step2.6)<br>\n",
        "$\\;\\;\\;\\;\\;$[Step 2.7: Handling Missing Data](#step2.7)<br>\n",
        "$\\;\\;\\;\\;\\;$[Step 2.8: One Hot Encoding](#step2.8)<br>\n",
        "[Step 3.0: Data Exploration/Visualization](#step3)<br>\n",
        "$\\;\\;\\;\\;\\;$[Step 3.1: Descriptive Statistics](#step3.1)<br> \n",
        "$\\;\\;\\;\\;\\;$[Step 3.2: Feature Selection ](#step3.2)<br> \n",
        "$\\;\\;\\;\\;\\;\\;\\;\\;\\;\\;$[Step 3.2.1: Univariate Selction](#step3.2.1)<br> \n",
        "$\\;\\;\\;\\;\\;\\;\\;\\;\\;\\;$[Step 3.2.2: Feature Importance](#step3.2.2)<br> \n",
        "$\\;\\;\\;\\;\\;$[Step 3.3: Features Correlation](#step3.3)<br> \n",
        "[Step 4.0: Predictive Modeling](#step4)<br>\n",
        "[Step 5.0: Model Validation](#step5)<br>\n",
        "[Deployment of the Solution](#deployment)<br>\n",
        "[Acknowledgements](#acknowledgements)"
      ]
    },
    {
      "cell_type": "markdown",
      "metadata": {
        "id": "QuYszGjNBVhy"
      },
      "source": [
        "<a id='introduction'></a>\n",
        "## Problem Definition\n",
        "\n",
        "Text"
      ]
    },
    {
      "cell_type": "markdown",
      "metadata": {
        "id": "qJgMXdtRBVh0"
      },
      "source": [
        "🔝 [Back to Top](#indice)<br>"
      ]
    },
    {
      "cell_type": "markdown",
      "metadata": {
        "id": "XegWGUrbBVh1"
      },
      "source": [
        "___"
      ]
    },
    {
      "cell_type": "markdown",
      "metadata": {
        "id": "QRhuiMlmBVh3"
      },
      "source": [
        "<a id='step0'></a>\n",
        "## Step 0.0:  Setting the Engine Tools"
      ]
    },
    {
      "cell_type": "markdown",
      "metadata": {
        "id": "fo8frm3yBVh4"
      },
      "source": [
        "<a id='step0.1'></a>\n",
        "### Step 0.1: Importing Required Python Libraries"
      ]
    },
    {
      "cell_type": "markdown",
      "metadata": {
        "id": "m_TSGM6vBVh6"
      },
      "source": [
        "#### Packages"
      ]
    },
    {
      "cell_type": "code",
      "execution_count": null,
      "metadata": {
        "id": "8WAirLGFBVh9"
      },
      "outputs": [],
      "source": [
        ""
      ]
    },
    {
      "cell_type": "markdown",
      "metadata": {
        "id": "ymMtR-wSBViA"
      },
      "source": [
        "#### Functions from Scikit-Learn Modules"
      ]
    },
    {
      "cell_type": "code",
      "execution_count": null,
      "metadata": {
        "id": "7ZSEfxgHBViB"
      },
      "outputs": [],
      "source": [
        ""
      ]
    },
    {
      "cell_type": "markdown",
      "metadata": {
        "id": "wbMjwRfABViC"
      },
      "source": [
        "<a id='step0.2'></a>\n",
        "### Step 0.2: Display Setting"
      ]
    },
    {
      "cell_type": "code",
      "execution_count": null,
      "metadata": {
        "id": "Xpl61tgRBViE"
      },
      "outputs": [],
      "source": [
        ""
      ]
    },
    {
      "cell_type": "markdown",
      "metadata": {
        "id": "nqsIXn0pBViF"
      },
      "source": [
        "<a id='step0.3'></a>\n",
        "### Step 0.3: Defining Functions and Dictionaries"
      ]
    },
    {
      "cell_type": "code",
      "execution_count": null,
      "metadata": {
        "id": "L35y2P_XBViI"
      },
      "outputs": [],
      "source": [
        ""
      ]
    },
    {
      "cell_type": "markdown",
      "metadata": {
        "id": "Qi3Q_81ABViJ"
      },
      "source": [
        "🔝 [Back to Top](#indice)<br>"
      ]
    },
    {
      "cell_type": "markdown",
      "metadata": {
        "id": "Rj8cuBqqBViK"
      },
      "source": [
        "___"
      ]
    },
    {
      "cell_type": "markdown",
      "metadata": {
        "id": "C4c4fj8JBViL"
      },
      "source": [
        "<a id='step1'></a>\n",
        "## Step 1.0:  Data Extraction"
      ]
    },
    {
      "cell_type": "markdown",
      "metadata": {
        "id": "05-3oxNpBViM"
      },
      "source": [
        "Text"
      ]
    },
    {
      "cell_type": "markdown",
      "metadata": {
        "id": "jMqByUjJBViN"
      },
      "source": [
        "<a id='step1.1'></a>\n",
        "### Step 1.1: Downloading the Data"
      ]
    },
    {
      "cell_type": "markdown",
      "metadata": {
        "id": "GfptRFCqBViP"
      },
      "source": [
        "Text"
      ]
    },
    {
      "cell_type": "markdown",
      "metadata": {
        "id": "H-lfqCn0BViR"
      },
      "source": [
        "<a id='step1.2'></a>\n",
        "### Step 1.2: Loading the DataFrame"
      ]
    },
    {
      "cell_type": "markdown",
      "metadata": {
        "id": "pqDlUp4cBViR"
      },
      "source": [
        "Text"
      ]
    },
    {
      "cell_type": "markdown",
      "metadata": {
        "id": "41lxc5R8BViS"
      },
      "source": [
        "<a id='step1.3'></a>\n",
        "### Step 1.3: DataFrame Display"
      ]
    },
    {
      "cell_type": "markdown",
      "metadata": {
        "id": "3fb0vUfaBViS"
      },
      "source": [
        "Text"
      ]
    },
    {
      "cell_type": "markdown",
      "metadata": {
        "id": "56F5MWA_BViT"
      },
      "source": [
        "🔝 [Back to Top](#indice)<br>"
      ]
    },
    {
      "cell_type": "markdown",
      "metadata": {
        "id": "VoIBhZxNBViT"
      },
      "source": [
        "___"
      ]
    },
    {
      "cell_type": "markdown",
      "metadata": {
        "id": "8gk3gteTBViU"
      },
      "source": [
        "<a id='step2'></a>\n",
        "## Step 2.0: Data Preparation"
      ]
    },
    {
      "cell_type": "markdown",
      "metadata": {
        "id": "MjaRGtWWBViV"
      },
      "source": [
        "Text"
      ]
    },
    {
      "cell_type": "markdown",
      "metadata": {
        "id": "JjjGPw9fBViW"
      },
      "source": [
        "<a id='step2.1'></a>\n",
        "### Step 2.1: Data Description"
      ]
    },
    {
      "cell_type": "markdown",
      "metadata": {
        "id": "P2T1TWREBViW"
      },
      "source": [
        "Text"
      ]
    },
    {
      "cell_type": "markdown",
      "metadata": {
        "id": "KeG8t8-2BViW"
      },
      "source": [
        "<a id='step2.2'></a>\n",
        "### Step 2.2: Quantifying Cardinality "
      ]
    },
    {
      "cell_type": "markdown",
      "metadata": {
        "id": "bSqior0mBViX"
      },
      "source": [
        "Text"
      ]
    },
    {
      "cell_type": "markdown",
      "metadata": {
        "id": "flAfd4MoBViY"
      },
      "source": [
        "<a id='step2.3'></a>\n",
        "### Step 2.3: Removing Duplicates"
      ]
    },
    {
      "cell_type": "markdown",
      "metadata": {
        "id": "CtBxR5ATBViY"
      },
      "source": [
        "Text"
      ]
    },
    {
      "cell_type": "markdown",
      "metadata": {
        "id": "jSGGxOTjBViZ"
      },
      "source": [
        "<a id='step2.4'></a>\n",
        "### Step 2.4: Removing Irrelevant Data "
      ]
    },
    {
      "cell_type": "markdown",
      "metadata": {
        "id": "4tKFB5R6BViZ"
      },
      "source": [
        "Text"
      ]
    },
    {
      "cell_type": "markdown",
      "metadata": {
        "id": "TkxvhPzpBVia"
      },
      "source": [
        "<a id='step2.5'></a>\n",
        "### Step 2.5: Fixing Structural Errors"
      ]
    },
    {
      "cell_type": "markdown",
      "metadata": {
        "id": "qcGLagoYBVia"
      },
      "source": [
        "Text"
      ]
    },
    {
      "cell_type": "markdown",
      "metadata": {
        "id": "HBRqLJf3BVia"
      },
      "source": [
        "<a id='step2.6'></a>\n",
        "### Step 2.6: Detecting Outliers"
      ]
    },
    {
      "cell_type": "markdown",
      "metadata": {
        "id": "HSoP5Fo1BVia"
      },
      "source": [
        "Text"
      ]
    },
    {
      "cell_type": "markdown",
      "metadata": {
        "id": "N_3nnCKQBVib"
      },
      "source": [
        "<a id='step2.7'></a>\n",
        "### Step 2.7: Handling Missing Data"
      ]
    },
    {
      "cell_type": "markdown",
      "metadata": {
        "id": "4K0ofcC0BVib"
      },
      "source": [
        "Text"
      ]
    },
    {
      "cell_type": "markdown",
      "metadata": {
        "id": "BEdLX-AyBVib"
      },
      "source": [
        "<a id='step2.8'></a>\n",
        "### Step 2.8: One Hot Encoding"
      ]
    },
    {
      "cell_type": "markdown",
      "metadata": {
        "id": "DU0zRBwjBVic"
      },
      "source": [
        "Text"
      ]
    },
    {
      "cell_type": "markdown",
      "metadata": {
        "id": "ScCDmvqOBVic"
      },
      "source": [
        "🔝 [Back to Top](#indice)<br>"
      ]
    },
    {
      "cell_type": "markdown",
      "metadata": {
        "id": "fo-sc1vQBVic"
      },
      "source": [
        "___"
      ]
    },
    {
      "cell_type": "markdown",
      "metadata": {
        "id": "RbdBVJDNBVid"
      },
      "source": [
        "<a id='step3'></a>\n",
        "## Step 3.0: Data Exploration/Visualization"
      ]
    },
    {
      "cell_type": "markdown",
      "metadata": {
        "id": "7cNymOvEBVid"
      },
      "source": [
        "Text"
      ]
    },
    {
      "cell_type": "markdown",
      "metadata": {
        "id": "CyJ0sKSvBVie"
      },
      "source": [
        "<a id='step3.1'></a>\n",
        "### Step 3.1: Descriptive Statistics "
      ]
    },
    {
      "cell_type": "markdown",
      "metadata": {
        "id": "VRNugnm2BVif"
      },
      "source": [
        "Text"
      ]
    },
    {
      "cell_type": "markdown",
      "metadata": {
        "id": "8mPn3C0GBVif"
      },
      "source": [
        "<a id='step3.2'></a>\n",
        "### Step 3.2: Feature Selection "
      ]
    },
    {
      "cell_type": "markdown",
      "metadata": {
        "id": "2xIenPO8BVig"
      },
      "source": [
        "Text"
      ]
    },
    {
      "cell_type": "markdown",
      "metadata": {
        "id": "G4ZGBvsjBVii"
      },
      "source": [
        "<a id='step3.2.1'></a>\n",
        "#### Step 3.2.1: Univariate Selction"
      ]
    },
    {
      "cell_type": "markdown",
      "metadata": {
        "scrolled": true,
        "id": "-BJh35njBVij"
      },
      "source": [
        "Text"
      ]
    },
    {
      "cell_type": "markdown",
      "metadata": {
        "id": "hDCGgusBBVik"
      },
      "source": [
        "<a id='step3.2.2'></a>\n",
        "#### Step 3.2.2: Feature Importance"
      ]
    },
    {
      "cell_type": "markdown",
      "metadata": {
        "scrolled": true,
        "id": "vOQg7molBVil"
      },
      "source": [
        "Text"
      ]
    },
    {
      "cell_type": "markdown",
      "metadata": {
        "id": "2uyc98kZBVim"
      },
      "source": [
        "<a id='step3.3'></a>\n",
        "### Step 3.3: Features Correlation"
      ]
    },
    {
      "cell_type": "markdown",
      "metadata": {
        "id": "AAk4ul_ZBVin"
      },
      "source": [
        "Text"
      ]
    },
    {
      "cell_type": "markdown",
      "metadata": {
        "id": "h9KnBWFQBVio"
      },
      "source": [
        "🔝 [Back to Top](#indice)<br>"
      ]
    },
    {
      "cell_type": "markdown",
      "metadata": {
        "id": "CCgFllvxBVip"
      },
      "source": [
        "___"
      ]
    },
    {
      "cell_type": "markdown",
      "metadata": {
        "id": "3pXvCLXmBViq"
      },
      "source": [
        "<a id='step4'></a>\n",
        "## Step 4.0: Predictive Modeling"
      ]
    },
    {
      "cell_type": "markdown",
      "metadata": {
        "id": "1_UKk9mWBVir"
      },
      "source": [
        "Text"
      ]
    },
    {
      "cell_type": "markdown",
      "metadata": {
        "id": "ZOp0xxqMBVir"
      },
      "source": [
        "___"
      ]
    },
    {
      "cell_type": "markdown",
      "metadata": {
        "id": "8DNsgbLdBVis"
      },
      "source": [
        "🔝 [Back to Top](#indice)<br>"
      ]
    },
    {
      "cell_type": "markdown",
      "metadata": {
        "id": "zLmMN-ffBVis"
      },
      "source": [
        "___"
      ]
    },
    {
      "cell_type": "markdown",
      "metadata": {
        "id": "retscU5KBVit"
      },
      "source": [
        "<a id='step5'></a>\n",
        "## Step 5.0: Model Validation\n"
      ]
    },
    {
      "cell_type": "markdown",
      "metadata": {
        "id": "DkfimAatBViu"
      },
      "source": [
        "Text"
      ]
    },
    {
      "cell_type": "markdown",
      "metadata": {
        "id": "wULxvf6qBViv"
      },
      "source": [
        "🔝 [Back to Top](#indice)<br>"
      ]
    },
    {
      "cell_type": "markdown",
      "metadata": {
        "id": "ZKF973WvBViv"
      },
      "source": [
        "___"
      ]
    },
    {
      "cell_type": "markdown",
      "metadata": {
        "id": "YaTjXAQ6BViw"
      },
      "source": [
        "<a id='deployment'></a>\n",
        "## Deployment of the Solution \n"
      ]
    },
    {
      "cell_type": "markdown",
      "metadata": {
        "id": "Lp62qepbBViw"
      },
      "source": [
        "text"
      ]
    },
    {
      "cell_type": "markdown",
      "metadata": {
        "id": "4Abo4WfbBViw"
      },
      "source": [
        "<a id='acknowledgements'></a>\n",
        "## Acknowledgements"
      ]
    },
    {
      "cell_type": "markdown",
      "metadata": {
        "id": "x5L-GBidBVix"
      },
      "source": [
        "Text"
      ]
    },
    {
      "cell_type": "markdown",
      "metadata": {
        "id": "I8xQHAWGBVix"
      },
      "source": [
        "🔝 [Back to Top](#indice)<br>"
      ]
    },
    {
      "cell_type": "code",
      "execution_count": null,
      "metadata": {
        "id": "ADYqi0i5BViy"
      },
      "outputs": [],
      "source": [
        ""
      ]
    }
  ],
  "metadata": {
    "kernelspec": {
      "display_name": "Python 3 (ipykernel)",
      "language": "python",
      "name": "python3"
    },
    "language_info": {
      "codemirror_mode": {
        "name": "ipython",
        "version": 3
      },
      "file_extension": ".py",
      "mimetype": "text/x-python",
      "name": "python",
      "nbconvert_exporter": "python",
      "pygments_lexer": "ipython3",
      "version": "3.9.7"
    },
    "colab": {
      "name": "work flow.ipynb",
      "provenance": [],
      "include_colab_link": true
    }
  },
  "nbformat": 4,
  "nbformat_minor": 0
}